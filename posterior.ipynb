{
 "cells": [
  {
   "cell_type": "code",
   "execution_count": 6,
   "metadata": {},
   "outputs": [],
   "source": [
    "import astropy\n",
    "import scipy\n",
    "from astropy.table import Table,unique, vstack\n",
    "import matplotlib\n",
    "import matplotlib.pyplot as plt\n",
    "import numpy as np\n"
   ]
  },
  {
   "cell_type": "code",
   "execution_count": 7,
   "metadata": {},
   "outputs": [],
   "source": [
    "catalog = Table.read('GOGREEN_input_SMF_catalog_vdB (1).cat', format='ascii')"
   ]
  },
  {
   "cell_type": "code",
   "execution_count": 8,
   "metadata": {},
   "outputs": [],
   "source": [
    "catalog = catalog[(catalog['R'] < 1000) & (catalog['lmass'] >= 10.2) ]"
   ]
  },
  {
   "cell_type": "code",
   "execution_count": 9,
   "metadata": {},
   "outputs": [],
   "source": [
    "f2  =  catalog[(catalog['Redshift'] <=  0) & (catalog['z_peak'] >  0)  ]"
   ]
  },
  {
   "cell_type": "code",
   "execution_count": 10,
   "metadata": {},
   "outputs": [],
   "source": [
    "import pandas as pd\n",
    "\n",
    "df_pesos = pd.read_csv(\"pesos.csv\")"
   ]
  },
  {
   "cell_type": "code",
   "execution_count": null,
   "metadata": {},
   "outputs": [],
   "source": [
    "def Schechter_Lum(L, L_star=None, Alpha=None, P_star=None):\n",
    " \n",
    "    ratio = L/L_star\n",
    "    f = P_star* np.exp(-ratio) *(ratio)**Alpha *ratio*np.log(10.) \n",
    "    return(f)\n",
    "\n"
   ]
  },
  {
   "cell_type": "code",
   "execution_count": 11,
   "metadata": {},
   "outputs": [],
   "source": [
    "def log_schechter_fit(logM, phi_star, log_M0, alpha ):\n",
    "    schechter = phi_star\n",
    "    schechter += (alpha+1)*(logM-log_M0)*np.log(10)\n",
    "    schechter -= pow(-  10,logM-log_M0)\n",
    "    return   schechter "
   ]
  },
  {
   "cell_type": "code",
   "execution_count": 19,
   "metadata": {},
   "outputs": [],
   "source": [
    "def schechterM(magnitude, phiStar, alpha, MStar):\n",
    "    \"\"\"Schechter luminosity function by magnitudes.\"\"\"\n",
    "    MStarMinM = 0.4 * (MStar - magnitude)\n",
    "    return (0.4 * np.log(10) * phiStar *\n",
    "            10.0**(MStarMinM * (alpha + 1.)) * np.exp(-10.**MStarMinM))"
   ]
  },
  {
   "cell_type": "code",
   "execution_count": null,
   "metadata": {},
   "outputs": [],
   "source": [
    "%pip install CosmoloPy"
   ]
  },
  {
   "cell_type": "code",
   "execution_count": 14,
   "metadata": {},
   "outputs": [],
   "source": [
    "from scipy.stats import multivariate_normal\n",
    "x = np.linspace(0, 5, 10, endpoint=False)\n",
    "y= [1,0]\n",
    "def prior(p):\n",
    "    return multivariate_normal(mean=[0,0], cov=[[1,0],[0,1]]).pdf(p)"
   ]
  },
  {
   "cell_type": "code",
   "execution_count": 17,
   "metadata": {},
   "outputs": [
    {
     "data": {
      "text/plain": [
       "0.09653235263005393"
      ]
     },
     "execution_count": 17,
     "metadata": {},
     "output_type": "execute_result"
    }
   ],
   "source": [
    "prior(y)"
   ]
  },
  {
   "cell_type": "code",
   "execution_count": null,
   "metadata": {},
   "outputs": [],
   "source": [
    "def acceptance_ratio(p, p_new):\n",
    "    # Return R, using the functions we created before\n",
    "    return min(1, ((log_schechter_fit(p_new) / log_schechter_fit(p)) * (prior(p_new) / prior(p))))"
   ]
  }
 ],
 "metadata": {
  "kernelspec": {
   "display_name": "Python 3.8.8 ('base')",
   "language": "python",
   "name": "python3"
  },
  "language_info": {
   "codemirror_mode": {
    "name": "ipython",
    "version": 3
   },
   "file_extension": ".py",
   "mimetype": "text/x-python",
   "name": "python",
   "nbconvert_exporter": "python",
   "pygments_lexer": "ipython3",
   "version": "3.8.8"
  },
  "orig_nbformat": 4,
  "vscode": {
   "interpreter": {
    "hash": "5179d32cf6ec497baf3f8a3ef987cc77c5d2dc691fdde20a56316522f61a7323"
   }
  }
 },
 "nbformat": 4,
 "nbformat_minor": 2
}
