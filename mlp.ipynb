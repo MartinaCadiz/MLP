{
 "cells": [
  {
   "cell_type": "code",
   "execution_count": 12,
   "metadata": {},
   "outputs": [
    {
     "name": "stdout",
     "output_type": "stream",
     "text": [
      "Requirement already satisfied: astropy==5.1.0 in c:\\users\\marti\\appdata\\local\\programs\\python\\python39\\lib\\site-packages (5.1)Note: you may need to restart the kernel to use updated packages.\n"
     ]
    },
    {
     "name": "stderr",
     "output_type": "stream",
     "text": [
      "WARNING: You are using pip version 20.2.3; however, version 22.1.2 is available.\n",
      "You should consider upgrading via the 'c:\\Users\\marti\\AppData\\Local\\Programs\\Python\\Python39\\python.exe -m pip install --upgrade pip' command.\n"
     ]
    },
    {
     "name": "stdout",
     "output_type": "stream",
     "text": [
      "\n",
      "Requirement already satisfied: pyerfa>=2.0 in c:\\users\\marti\\appdata\\local\\programs\\python\\python39\\lib\\site-packages (from astropy==5.1.0) (2.0.0.1)\n",
      "Requirement already satisfied: numpy>=1.18 in c:\\users\\marti\\appdata\\local\\programs\\python\\python39\\lib\\site-packages (from astropy==5.1.0) (1.21.2)\n",
      "Requirement already satisfied: PyYAML>=3.13 in c:\\users\\marti\\appdata\\local\\programs\\python\\python39\\lib\\site-packages (from astropy==5.1.0) (6.0)\n",
      "Requirement already satisfied: packaging>=19.0 in c:\\users\\marti\\appdata\\local\\programs\\python\\python39\\lib\\site-packages (from astropy==5.1.0) (21.3)\n",
      "Requirement already satisfied: pyparsing!=3.0.5,>=2.0.2 in c:\\users\\marti\\appdata\\local\\programs\\python\\python39\\lib\\site-packages (from packaging>=19.0->astropy==5.1.0) (3.0.9)\n",
      "Collecting matplotlib\n",
      "  Downloading matplotlib-3.5.2-cp39-cp39-win_amd64.whl (7.2 MB)\n",
      "Requirement already satisfied: python-dateutil>=2.7 in c:\\users\\marti\\appdata\\local\\programs\\python\\python39\\lib\\site-packages (from matplotlib) (2.8.2)\n",
      "Collecting kiwisolver>=1.0.1\n",
      "  Downloading kiwisolver-1.4.3-cp39-cp39-win_amd64.whl (55 kB)\n",
      "Collecting fonttools>=4.22.0\n",
      "  Downloading fonttools-4.33.3-py3-none-any.whl (930 kB)\n",
      "Requirement already satisfied: numpy>=1.17 in c:\\users\\marti\\appdata\\local\\programs\\python\\python39\\lib\\site-packages (from matplotlib) (1.21.2)\n",
      "Collecting cycler>=0.10\n",
      "  Downloading cycler-0.11.0-py3-none-any.whl (6.4 kB)\n",
      "Requirement already satisfied: pillow>=6.2.0 in c:\\users\\marti\\appdata\\local\\programs\\python\\python39\\lib\\site-packages (from matplotlib) (8.1.0)\n",
      "Requirement already satisfied: pyparsing>=2.2.1 in c:\\users\\marti\\appdata\\local\\programs\\python\\python39\\lib\\site-packages (from matplotlib) (3.0.9)\n",
      "Requirement already satisfied: packaging>=20.0 in c:\\users\\marti\\appdata\\local\\programs\\python\\python39\\lib\\site-packages (from matplotlib) (21.3)\n",
      "Requirement already satisfied: six>=1.5 in c:\\users\\marti\\appdata\\roaming\\python\\python39\\site-packages (from python-dateutil>=2.7->matplotlib) (1.15.0)\n",
      "Installing collected packages: kiwisolver, fonttools, cycler, matplotlib\n",
      "Successfully installed cycler-0.11.0 fonttools-4.33.3 kiwisolver-1.4.3 matplotlib-3.5.2\n",
      "Note: you may need to restart the kernel to use updated packages.\n"
     ]
    },
    {
     "name": "stderr",
     "output_type": "stream",
     "text": [
      "  WARNING: The scripts fonttools.exe, pyftmerge.exe, pyftsubset.exe and ttx.exe are installed in 'c:\\Users\\marti\\AppData\\Local\\Programs\\Python\\Python39\\Scripts' which is not on PATH.\n",
      "  Consider adding this directory to PATH or, if you prefer to suppress this warning, use --no-warn-script-location.\n",
      "WARNING: You are using pip version 20.2.3; however, version 22.1.2 is available.\n",
      "You should consider upgrading via the 'c:\\Users\\marti\\AppData\\Local\\Programs\\Python\\Python39\\python.exe -m pip install --upgrade pip' command.\n"
     ]
    }
   ],
   "source": [
    "%pip install astropy==5.1.0\n",
    "%pip install matplotlib"
   ]
  },
  {
   "cell_type": "code",
   "execution_count": 14,
   "metadata": {},
   "outputs": [],
   "source": [
    "import astropy\n",
    "from astropy.table import Table,unique\n",
    "import matplotlib\n",
    "import matplotlib.pyplot as plt\n",
    "import numpy as np"
   ]
  },
  {
   "cell_type": "code",
   "execution_count": 17,
   "metadata": {},
   "outputs": [],
   "source": [
    "catalog = Table.read('GOGREEN_input_SMF_catalog_vdB (1).cat', format='ascii')"
   ]
  },
  {
   "cell_type": "code",
   "execution_count": 18,
   "metadata": {},
   "outputs": [
    {
     "name": "stdout",
     "output_type": "stream",
     "text": [
      "['id', 'ra', 'dec', 'xpix', 'ypix', 'z_spec', 'z_a', 'z_m1', 'chi_a', 'z_p', 'chi_p', 'z_m2', 'odds', 'l68', 'u68', 'l95', 'u95', 'l99', 'u99', 'nfilt', 'q_z', 'z_peak', 'peak_prob', 'z_mc', 'z_smass', 'ltau', 'metal', 'lage', 'Av', 'lmass', 'lsfr', 'lssfr', 'la2t', 'chi2', 'REDSHIFTUSED', 'FUV', 'NUV', 'U', 'B', 'V', 'R', 'I', 'Z_band', 'J', 'H', 'K', 'sdssu', 'sdssg', 'sdssr', 'sdssi', 'sdssz', 'UMINV', 'VMINJ', 'GALAPAGOS_VERSION', 'GALA_ID', 'X_IMAGE', 'Y_IMAGE', 'ALPHA_J2000', 'DELTA_J2000', 'MAG_AUTO', 'MAGERR_AUTO', 'CLASS_STAR', 'SKY_GALA_BAND', 'SKY_SIG_BAND', 'SKY_RAD_BAND', 'FLAG_GALFIT', 'NGOOD_GALFIT_BAND', 'NMASK_GALFIT_BAND', 'NEIGH_GALFIT', 'CHISQ_GALFIT', 'NFREE_GALFIT', 'NFIX_GALFIT', 'NDOF_GALFIT', 'CHI2NU_GALFIT', 'SKY_GALFIT_BAND', 'X_GALFIT_BAND', 'XERR_GALFIT_BAND', 'Y_GALFIT_BAND', 'YERR_GALFIT_BAND', 'MAG_GALFIT_BAND', 'MAGERR_GALFIT_BAND', 'RE_GALFIT_BAND', 'REERR_GALFIT_BAND', 'N_GALFIT_BAND', 'NERR_GALFIT_BAND', 'Q_GALFIT_BAND', 'QERR_GALFIT_BAND', 'PA_GALFIT_BAND', 'PAERR_GALFIT_BAND', 'xc_centroid', 'yc_centroid', 'ellipticity_centroid', 'elongation_centroid', 'orientation_centroid', 'xc_asymmetry', 'yc_asymmetry', 'ellipticity_asymmetry', 'elongation_asymmetry', 'orientation_asymmetry', 'flux_circ', 'flux_ellip', 'rpetro_circ', 'rpetro_ellip', 'rmax_circ', 'rmax_ellip', 'rhalf_circ', 'rhalf_ellip', 'r20', 'r50', 'r80', 'gini', 'm20', 'gini_m20_bulge', 'gini_m20_merger', 'sn_per_pixel', 'concentration', 'asymmetry', 'smoothness', 'multimode', 'intensity', 'deviation', 'outer_asymmetry', 'shape_asymmetry', 'sersic_amplitude', 'sersic_rhalf', 'sersic_n', 'sersic_xc', 'sersic_yc', 'sersic_ellip', 'sersic_theta', 'sky_mean', 'sky_median', 'sky_sigma', 'xmin_stamp', 'ymin_stamp', 'xmax_stamp', 'ymax_stamp', 'nx_stamp', 'ny_stamp', 'flag', 'flag_sersic', 'Cluster', 'SPECID', 'RA(J2000)', 'DEC(J2000)', 'OBJClass', 'Redshift', 'Redshift_Quality', 'EXTVER', 'Spec_Flag', 'SNR_8500_VAR', 'SNR_8500_RMS', 'D4000', 'eD4000', 'EWOII', 'eEWOII', 'EWHdelta', 'eEWHdelta', 'EWOII_model', 'eEWOII_model', 'F_OII', 'eF_OII', 'SFR_OII', 'eSFR_OII', 'delta_BIC', 'member_Clean', 'member_EM', 'member', 'cluster_photo_z', 'photo_membership', 'UVJ_class', 'cluster_name', 'cluster_redshift', 'cluster_redshift_error', 'cluster_vdisp', 'cluster_vdisp_error', 'R200_degrees', 'R200_error_degrees', 'cc_distance', 'cc_distance_error_low', 'cc_distance_error_high', 'v_peculiar', 'v_peculiar_error_low', 'v_peculiar_error_high', 'v_peculiar_norm', 'v_peculiar_norm_error_low', 'v_peculiar_norm_error_high', 'phase_space_distance', 'phase_space_distance_error_low', 'phase_space_distance_error_high', 'pb_SF', 'pb_SF_error_low', 'pb_SF_error_high', 'pb_Q', 'pb_Q_error_low', 'pb_Q_error_high', 'pb_SF_cc_radius', 'pb_SF_cc_radius_error_low', 'pb_SF_cc_radius_error_high', 'pb_Q_cc_radius', 'pb_Q_cc_radius_error_low', 'pb_Q_cc_radius_error_high', 'lambda_b_SF', 'lambda_b_SF_error_low', 'lambda_b_SF_error_high', 'lambda_b_Q', 'lambda_b_Q_error_low', 'lambda_b_Q_error_high', 'lambda_b_ALL', 'lambda_b_ALL_error_low', 'lambda_b_ALL_error_high', 'lambda_b_SF_cc_radius', 'lambda_b_SF_cc_radius_error_low', 'lambda_b_SF_cc_radius_error_high', 'lambda_b_Q_cc_radius', 'lambda_b_Q_cc_radius_error_low', 'lambda_b_Q_cc_radius_error_high', 'lambda_b_ALL_cc_radius', 'lambda_b_ALL_cc_radius_error_low', 'lambda_b_ALL_cc_radius_error_high', 'lmass_limit', 'Ks_weight', 'weight_vdB_SF', 'weight_vdB_Q', 'weight_vdB_ALL']\n"
     ]
    }
   ],
   "source": [
    "print(catalog.colnames)"
   ]
  },
  {
   "cell_type": "code",
   "execution_count": 19,
   "metadata": {},
   "outputs": [
    {
     "data": {
      "text/plain": [
       "['REDSHIFTUSED',\n",
       " 'R',\n",
       " 'GALAPAGOS_VERSION',\n",
       " 'MAGERR_AUTO',\n",
       " 'CLASS_STAR',\n",
       " 'SKY_RAD_BAND',\n",
       " 'NFREE_GALFIT',\n",
       " 'XERR_GALFIT_BAND',\n",
       " 'YERR_GALFIT_BAND',\n",
       " 'MAGERR_GALFIT_BAND',\n",
       " 'RE_GALFIT_BAND',\n",
       " 'REERR_GALFIT_BAND',\n",
       " 'NERR_GALFIT_BAND',\n",
       " 'QERR_GALFIT_BAND',\n",
       " 'PAERR_GALFIT_BAND',\n",
       " 'RA(J2000)',\n",
       " 'Redshift',\n",
       " 'Redshift_Quality',\n",
       " 'EXTVER',\n",
       " 'SNR_8500_VAR',\n",
       " 'SNR_8500_RMS',\n",
       " 'SFR_OII',\n",
       " 'eSFR_OII',\n",
       " 'R200_degrees',\n",
       " 'R200_error_degrees']"
      ]
     },
     "execution_count": 19,
     "metadata": {},
     "output_type": "execute_result"
    }
   ],
   "source": [
    "filtro = filter(lambda a: 'R' in a, catalog.colnames)\n",
    "list(filtro)"
   ]
  },
  {
   "cell_type": "code",
   "execution_count": 20,
   "metadata": {},
   "outputs": [
    {
     "name": "stdout",
     "output_type": "stream",
     "text": [
      "65021\n",
      "3810\n",
      "969\n"
     ]
    }
   ],
   "source": [
    "g_forman = catalog[(catalog['UVJ_class'] == 1) & (catalog['photo_membership'] == 1)]\n",
    "g_no_forman = catalog[(catalog['UVJ_class'] == 2) & (catalog['photo_membership'] == 1) & (catalog['lmass'] > 0 ) ]\n",
    "\n",
    "print(len(catalog))\n",
    "print(len(g_forman))\n",
    "print(len(g_no_forman))"
   ]
  },
  {
   "cell_type": "code",
   "execution_count": null,
   "metadata": {},
   "outputs": [],
   "source": []
  }
 ],
 "metadata": {
  "kernelspec": {
   "display_name": "Python 3.9.1 64-bit",
   "language": "python",
   "name": "python3"
  },
  "language_info": {
   "codemirror_mode": {
    "name": "ipython",
    "version": 3
   },
   "file_extension": ".py",
   "mimetype": "text/x-python",
   "name": "python",
   "nbconvert_exporter": "python",
   "pygments_lexer": "ipython3",
   "version": "3.9.1"
  },
  "orig_nbformat": 4,
  "vscode": {
   "interpreter": {
    "hash": "3e24519b0ba229a6f9a71f39c1cb5a8bdc9138e2d11e58c1de9e81a631b04fde"
   }
  }
 },
 "nbformat": 4,
 "nbformat_minor": 2
}
